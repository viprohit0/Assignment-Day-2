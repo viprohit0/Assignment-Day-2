{
 "cells": [
  {
   "cell_type": "markdown",
   "metadata": {},
   "source": [
    "# Assignment Day 2"
   ]
  },
  {
   "cell_type": "code",
   "execution_count": 6,
   "metadata": {},
   "outputs": [
    {
     "name": "stdout",
     "output_type": "stream",
     "text": [
      "11\n",
      "12\n",
      "55\n",
      "74\n",
      "65\n",
      "85\n",
      "65\n",
      "32\n",
      "53\n",
      "49\n",
      "[12, 74, 32]\n"
     ]
    }
   ],
   "source": [
    "#Question no. 1\n",
    "\n",
    "list_1=[]\n",
    "for i in range (0,10):\n",
    "    n=int(input())\n",
    "    if n%2==0:\n",
    "        list_1.append(n)\n",
    "print(list_1)"
   ]
  },
  {
   "cell_type": "markdown",
   "metadata": {},
   "source": [
    "#Question no. 2\n",
    "\n",
    "# LIST COMPREHENSION"
   ]
  },
  {
   "cell_type": "raw",
   "metadata": {},
   "source": [
    "List Comprehensions in Python provide us a short and concise way to construct new List.\n",
    "List comprehension is an elegant way to define and create lists based on existing lists.\n",
    "We can create a list in a single line using loops statements like for loop etc\n",
    "and also we can use conditional statements to make a list through List Comprehension.\n",
    "it is also useful for reduce the time comlexity and space complexity of our programs.\n",
    "Examples:-\n",
    "     \n",
    "input_list = [1, 2, 3, 4, 5, 6, 7] \n",
    "  \n",
    "list_using_comp = [var for var in input_list if var % 2 == 0] \n",
    "  \n",
    "print(list_using_comp) \n",
    "\n",
    "\n",
    "OUTPUT: [2,4,6]\n"
   ]
  },
  {
   "cell_type": "code",
   "execution_count": 18,
   "metadata": {},
   "outputs": [
    {
     "name": "stdout",
     "output_type": "stream",
     "text": [
      "4\n",
      "{1: 1, 2: 4, 3: 9, 4: 16}\n"
     ]
    }
   ],
   "source": [
    "#Question no. 3\n",
    "\n",
    "n= int(input())\n",
    "d={i:i*i for i in range (1,n+1)}\n",
    "    \n",
    "print(d)"
   ]
  },
  {
   "cell_type": "code",
   "execution_count": 4,
   "metadata": {},
   "outputs": [
    {
     "name": "stdout",
     "output_type": "stream",
     "text": [
      "UP 5\n",
      "DOWN 3\n",
      "LEFT 3\n",
      "RIGHT 2\n",
      "2\n"
     ]
    }
   ],
   "source": [
    "#Question no. 4\n",
    "\n",
    "up=int(input(\"UP \"))\n",
    "down=int(input(\"DOWN \"))\n",
    "left=int(input(\"LEFT \"))\n",
    "right=int(input(\"RIGHT \"))\n",
    "x=right-left\n",
    "y=up-down\n",
    "import math as m\n",
    "distance=m.sqrt(x**2+y**2)\n",
    "print(round(distance))\n",
    "\n",
    "\n"
   ]
  }
 ],
 "metadata": {
  "kernelspec": {
   "display_name": "Python 3",
   "language": "python",
   "name": "python3"
  },
  "language_info": {
   "codemirror_mode": {
    "name": "ipython",
    "version": 3
   },
   "file_extension": ".py",
   "mimetype": "text/x-python",
   "name": "python",
   "nbconvert_exporter": "python",
   "pygments_lexer": "ipython3",
   "version": "3.7.4"
  }
 },
 "nbformat": 4,
 "nbformat_minor": 2
}
